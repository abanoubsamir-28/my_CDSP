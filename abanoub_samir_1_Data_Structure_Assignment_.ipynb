{
  "cells": [
    {
      "cell_type": "markdown",
      "metadata": {
        "id": "OvnvD5j3--ni"
      },
      "source": [
        "> # Dear Epsilon Students, \n",
        "> # The More you practice The better You'll Be."
      ]
    },
    {
      "cell_type": "markdown",
      "metadata": {
        "id": "cr-FRmYy--nq"
      },
      "source": [
        "### Instructions: \n",
        "- Make sure that you understand this topics before you start.\n",
        "- If you found something hard to do, try and try then google it and finally ask someone. \n",
        "- You can divide this work into daily tasks so that you do not feel pressure.\n",
        "- After you finish, go to model answer and rate yourself. \n",
        "- If you find something ambiguous, Try to make a hypothesis to solve a problem. "
      ]
    },
    {
      "cell_type": "markdown",
      "metadata": {
        "id": "6jwZu5cW--nr"
      },
      "source": [
        "### Question classification: \n",
        "- Green is level 1 \n",
        "- Orange is level 2 \n",
        "- Red is level 3 "
      ]
    },
    {
      "cell_type": "markdown",
      "metadata": {
        "id": "TyVG0jB2--ns"
      },
      "source": [
        "# <center> Let's start 💪 </center> "
      ]
    },
    {
      "cell_type": "markdown",
      "metadata": {
        "id": "OhR7vMFQ--nt"
      },
      "source": [
        "## <p style=\"color:green;\">Q.01 Write a Python program to calculate the length of a string.</p>\n"
      ]
    },
    {
      "cell_type": "code",
      "execution_count": null,
      "metadata": {
        "colab": {
          "base_uri": "https://localhost:8080/"
        },
        "id": "lPTc3x6_--nu",
        "outputId": "6911a490-9e9e-4060-a440-4706be3608b1"
      },
      "outputs": [
        {
          "output_type": "stream",
          "name": "stdout",
          "text": [
            "Enter a String \n",
            "fdfgasfhf\n",
            "Your String length is : 9\n"
          ]
        }
      ],
      "source": [
        "# Answer here \n",
        "def stringLengthCalc (data) : \n",
        "    return len(data)\n",
        "    \n",
        "userInput = input(\"Enter a String \\n\") \n",
        "print (\"Your String length is :\" ,stringLengthCalc(userInput))"
      ]
    },
    {
      "cell_type": "markdown",
      "metadata": {
        "id": "4vmcirL3--ny"
      },
      "source": [
        "## <p style=\"color:green;\">Q.02 Given the string 'hello' give an index command that returns 'e'</p>"
      ]
    },
    {
      "cell_type": "code",
      "execution_count": null,
      "metadata": {
        "colab": {
          "base_uri": "https://localhost:8080/"
        },
        "id": "2TzmLyDV--nz",
        "outputId": "4f4d8ceb-716f-4e1f-9842-4bfd68df2161"
      },
      "outputs": [
        {
          "output_type": "stream",
          "name": "stdout",
          "text": [
            "the index of 'e' is  1\n"
          ]
        }
      ],
      "source": [
        "# Answer here \n",
        "my_string = \"hello\"\n",
        "print(\"the index of 'e' is \" , my_string.find('e'))"
      ]
    },
    {
      "cell_type": "markdown",
      "metadata": {
        "id": "xPJNKFl0--n0"
      },
      "source": [
        "## <p style=\"color:green;\">Q.03 Reverse the string 'hello' using slicing</p>"
      ]
    },
    {
      "cell_type": "code",
      "execution_count": null,
      "metadata": {
        "id": "FX5OZcaq--n1",
        "outputId": "b54cfbfb-95d4-45d7-ccc1-6e21ebe5a4e9"
      },
      "outputs": [
        {
          "data": {
            "text/plain": [
              "'olleh'"
            ]
          },
          "execution_count": 53,
          "metadata": {},
          "output_type": "execute_result"
        }
      ],
      "source": [
        "# Answer here \n",
        "my_string = \"hello\"\n",
        "my_string[len(my_string) :: -1 ]"
      ]
    },
    {
      "cell_type": "markdown",
      "metadata": {
        "id": "pm6PxLeK--n2"
      },
      "source": [
        "## <p style=\"color:red;\">Q.04 Write a Python program to change a given string to a new string where the first and last chars have been exchanged.</p>"
      ]
    },
    {
      "cell_type": "code",
      "execution_count": null,
      "metadata": {
        "id": "1jl1c-yf--n3",
        "outputId": "79a174b2-b4fe-45d5-fdcf-cf550525e032"
      },
      "outputs": [
        {
          "name": "stdout",
          "output_type": "stream",
          "text": [
            "Enter a String \n",
            "This is strinG\n"
          ]
        },
        {
          "data": {
            "text/plain": [
              "'Ghis is strinT'"
            ]
          },
          "execution_count": 94,
          "metadata": {},
          "output_type": "execute_result"
        }
      ],
      "source": [
        "# Answer here \n",
        "def exchangeChars(str) : \n",
        "    if(str) :\n",
        "        newString =  str[-1] + str[1:(len(str)-1)] +str[0]\n",
        "    else :\n",
        "        return \"please enter valid string\" ; \n",
        "    \n",
        "    return newString ;\n",
        "\n",
        "\n",
        "userInput = input(\"Enter a String \\n\") \n",
        "exchangeChars(userInput)"
      ]
    },
    {
      "cell_type": "markdown",
      "metadata": {
        "id": "-z0kCNKO--n4"
      },
      "source": [
        "## <p style=\"color:green;\">Q.05 Reassign 'hello' in this nested list to say 'goodbye' instead</p>\n",
        "> list3 = [1,2,[3,4,'hello']]"
      ]
    },
    {
      "cell_type": "code",
      "execution_count": null,
      "metadata": {
        "id": "g1PF09-d--n4",
        "outputId": "47179fd4-7917-4d27-b3b1-f4893ec19bf0"
      },
      "outputs": [
        {
          "name": "stdout",
          "output_type": "stream",
          "text": [
            "[1, 2, [3, 4, 'goodbye']]\n"
          ]
        }
      ],
      "source": [
        "# Answer here \n",
        "list3 = [1,2,[3,4,'hello']] \n",
        "list3[2][2] = \"goodbye\"\n",
        "print(list3)"
      ]
    },
    {
      "cell_type": "markdown",
      "metadata": {
        "id": "Nok-o3HJ--n5"
      },
      "source": [
        "## <p style=\"color:green;\">Q.06 Sort the list below</p>\n",
        "> list4 = [5,3,4,6,1]"
      ]
    },
    {
      "cell_type": "code",
      "execution_count": null,
      "metadata": {
        "id": "TxeilEAa--n5",
        "outputId": "02ac1187-2485-4002-dbc5-9f8091e282a5"
      },
      "outputs": [
        {
          "name": "stdout",
          "output_type": "stream",
          "text": [
            "unSorted [5, 3, 4, 6, 1]\n",
            "Sorted [1, 3, 4, 5, 6]\n"
          ]
        }
      ],
      "source": [
        "# Answer here \n",
        "list4 = [5,3,4,6,1] \n",
        "print(\"unSorted\" ,list4)\n",
        "list4.sort()\n",
        "print(\"Sorted\" ,list4)"
      ]
    },
    {
      "cell_type": "markdown",
      "metadata": {
        "id": "DnfPr1CO--n6"
      },
      "source": [
        "## <p style=\"color:green;\">Q.07 Write a Python program to sum all the items in a list.</p>\n"
      ]
    },
    {
      "cell_type": "code",
      "execution_count": null,
      "metadata": {
        "id": "nqR-epki--n6",
        "outputId": "6c79e912-60b1-4ba0-f543-f4067a0fee54"
      },
      "outputs": [
        {
          "name": "stdout",
          "output_type": "stream",
          "text": [
            "how many elements5\n",
            "Enter your element : 1 => \t1\n",
            "Enter your element : 2 => \t2\n",
            "Enter your element : 3 => \t3\n",
            "Enter your element : 4 => \t4\n",
            "Enter your element : 5 => \t5\n",
            "Sum of [1, 2, 3, 4, 5] = 15\n"
          ]
        }
      ],
      "source": [
        "#Answer here\n",
        "def sumFunc(args) :\n",
        "    sum = 0 ; \n",
        "    for item in args : \n",
        "        sum+= item ; \n",
        "    return sum\n",
        "length = input(\"how many elements\") \n",
        "num_list = []\n",
        "for item in range (int(length)) :\n",
        "    userInput = input(\"Enter your element : \" + str((item+1)) +\" => \\t\")\n",
        "    num_list.append(int(userInput))\n",
        "print(\"Sum of\" , num_list , \"=\" , sumFunc(num_list))"
      ]
    },
    {
      "cell_type": "markdown",
      "metadata": {
        "id": "JVolBrdy--n7"
      },
      "source": [
        "## <p style=\"color:green;\">Q.08 Write a Python program to get the largest number from a list.</p>\n"
      ]
    },
    {
      "cell_type": "code",
      "execution_count": null,
      "metadata": {
        "id": "olbfQXGl--n7",
        "outputId": "1ee50b8f-ad89-4b68-9410-b3c5938b3211"
      },
      "outputs": [
        {
          "name": "stdout",
          "output_type": "stream",
          "text": [
            "how many elements5\n",
            "Enter your element : 1 => \t12\n",
            "Enter your element : 2 => \t444\n",
            "Enter your element : 3 => \t55425\n",
            "Enter your element : 4 => \t99999\n",
            "Enter your element : 5 => \t4342\n",
            "Max : 99999\n"
          ]
        }
      ],
      "source": [
        "# Answer here \n",
        "def getMax(list) :\n",
        "    max = list[0] ; \n",
        "    for number in list :\n",
        "        if (number > max) :\n",
        "            max = number ;\n",
        "    return max ; \n",
        "length = input(\"how many elements\") \n",
        "num_list = []\n",
        "for item in range (int(length)) :\n",
        "    userInput = input(\"Enter your element : \" + str((item+1)) +\" => \\t\")\n",
        "    num_list.append(int(userInput))\n",
        "\n",
        "print(\"Max : \" + str(getMax(num_list)))"
      ]
    },
    {
      "cell_type": "markdown",
      "metadata": {
        "id": "YPtMpW9p--n8"
      },
      "source": [
        "## <p style=\"color:green;\">Q.09 Write a Python program to get the smallest number from a list.</p>\n"
      ]
    },
    {
      "cell_type": "code",
      "execution_count": null,
      "metadata": {
        "id": "2zhYoqzp--n9",
        "outputId": "f0061a73-ff2a-45ed-cca7-207c54ef1b14"
      },
      "outputs": [
        {
          "name": "stdout",
          "output_type": "stream",
          "text": [
            "how many elements5\n",
            "Enter your element : 1 => \t55\n",
            "Enter your element : 2 => \t44\n",
            "Enter your element : 3 => \t33\n",
            "Enter your element : 4 => \t22\n",
            "Enter your element : 5 => \t10\n",
            "Min : 10\n"
          ]
        }
      ],
      "source": [
        "# Answer here \n",
        "def getMin(list) :\n",
        "    min = list[0] ; \n",
        "    for number in list :\n",
        "        if (number < min) :\n",
        "            min = number ;\n",
        "    return min ; \n",
        "\n",
        "length = input(\"how many elements\") \n",
        "num_list = []\n",
        "for item in range (int(length)) :\n",
        "    userInput = input(\"Enter your element : \" + str((item+1)) +\" => \\t\")\n",
        "    num_list.append(int(userInput))\n",
        "\n",
        "print(\"Min : \" + str(getMin(num_list)))"
      ]
    },
    {
      "cell_type": "markdown",
      "metadata": {
        "id": "IMRMUMGo--n-"
      },
      "source": [
        "## <p style=\"color:orange;\">Q.10 Write a Python program to remove duplicates from a list.</p>\n"
      ]
    },
    {
      "cell_type": "code",
      "execution_count": null,
      "metadata": {
        "id": "HVwzsfGo--n-",
        "outputId": "fcf97f35-147b-4bee-d626-6f2a1e428ac6"
      },
      "outputs": [
        {
          "name": "stdout",
          "output_type": "stream",
          "text": [
            "how many elements5\n",
            "Enter your element : 1 => \t20\n",
            "Enter your element : 2 => \t20\n",
            "Enter your element : 3 => \t30\n",
            "Enter your element : 4 => \t30\n",
            "Enter your element : 5 => \t40\n"
          ]
        },
        {
          "data": {
            "text/plain": [
              "['20', '30', '40']"
            ]
          },
          "execution_count": 16,
          "metadata": {},
          "output_type": "execute_result"
        }
      ],
      "source": [
        "# Answer here \n",
        "def removeDublicates(list) :\n",
        "    new_list = []\n",
        "    for item in list :\n",
        "        if item not in new_list : \n",
        "            new_list.append(item)\n",
        "    return new_list\n",
        "length = input(\"how many elements\") \n",
        "user_list = []\n",
        "for item in range (int(length)) :\n",
        "    userInput = input(\"Enter your element : \" + str((item+1)) +\" => \\t\")\n",
        "    user_list.append(userInput)\n",
        "\n",
        "\n",
        "removeDublicates(user_list)"
      ]
    },
    {
      "cell_type": "markdown",
      "metadata": {
        "id": "5ZOWlAf3--n_"
      },
      "source": [
        "## <p style=\"color:green;\">Q.11 Using keys and indexing, grab the 'hello' from the following dictionaries:</p>\n",
        ">d = {'k1':{'k2':'hello'}}\n",
        "\n"
      ]
    },
    {
      "cell_type": "code",
      "execution_count": null,
      "metadata": {
        "id": "HbW12sri--n_",
        "outputId": "b0ee7777-dd0b-4153-bfd8-6332cfa2745a"
      },
      "outputs": [
        {
          "data": {
            "text/plain": [
              "'hello'"
            ]
          },
          "execution_count": 19,
          "metadata": {},
          "output_type": "execute_result"
        }
      ],
      "source": [
        "# Answer here \n",
        "d = {'k1':{'k2':'hello'}}\n",
        "d['k1']['k2']"
      ]
    },
    {
      "cell_type": "markdown",
      "metadata": {
        "id": "gA3MxsE---oA"
      },
      "source": [
        "## <p style=\"color:orange;\">Q.12 Using keys and indexing, grab the 'hello' from the following dictionaries:</p>\n",
        "> d = {'k1':[{'nest_key':['this is deep',['hello']]}]}"
      ]
    },
    {
      "cell_type": "code",
      "execution_count": null,
      "metadata": {
        "id": "m4fgYN7R--oA",
        "outputId": "142bd8e5-173f-46b3-ed54-1f60c232d036"
      },
      "outputs": [
        {
          "data": {
            "text/plain": [
              "'hello'"
            ]
          },
          "execution_count": 27,
          "metadata": {},
          "output_type": "execute_result"
        }
      ],
      "source": [
        "# Answer here \n",
        "d = {'k1':[{'nest_key':['this is deep',['hello']]}]}\n",
        "d['k1'][0]['nest_key'][1][0]"
      ]
    },
    {
      "cell_type": "markdown",
      "metadata": {
        "id": "WYxDrCJ6--oA"
      },
      "source": [
        "## <p style=\"color:red;\">Q.13 Using keys and indexing, grab the 'hello' from the following dictionaries:</p>\n",
        "d = {'k1':[1,2,{'k2':['this is tricky',{'tough':[1,2,['hello']]}]}]}"
      ]
    },
    {
      "cell_type": "code",
      "execution_count": null,
      "metadata": {
        "id": "nw--7r5k--oA",
        "outputId": "fe856f7e-e32b-4d24-c2e7-6fc9fd25b255"
      },
      "outputs": [
        {
          "data": {
            "text/plain": [
              "'hello'"
            ]
          },
          "execution_count": 33,
          "metadata": {},
          "output_type": "execute_result"
        }
      ],
      "source": [
        "# Answer here \n",
        "d = {'k1':[1,2,{'k2':['this is tricky',{'tough':[1,2,['hello']]}]}]}\n",
        "d['k1'][2]['k2'][1]['tough'][2][0]"
      ]
    },
    {
      "cell_type": "markdown",
      "metadata": {
        "id": "DWUHowiD--oB"
      },
      "source": [
        "## <p style=\"color:green;\">Q.14 Write a Python script to add a key to a dictionary.</p>\n",
        "> Sample Dictionary : {0: 10, 1: 20}\n",
        "\n",
        "> Expected Result : {0: 10, 1: 20, 2: 30}"
      ]
    },
    {
      "cell_type": "code",
      "execution_count": null,
      "metadata": {
        "id": "PKgIRiOg--oC",
        "outputId": "c8c53ec5-299e-4f25-a29d-077536c8ec9e"
      },
      "outputs": [
        {
          "data": {
            "text/plain": [
              "{0: 10, 1: 20, 2: 30}"
            ]
          },
          "execution_count": 35,
          "metadata": {},
          "output_type": "execute_result"
        }
      ],
      "source": [
        "# Answer here \n",
        "my_Dictionary = {0: 10, 1: 20}\n",
        "my_Dictionary.update({2:30})\n",
        "my_Dictionary"
      ]
    },
    {
      "cell_type": "markdown",
      "metadata": {
        "id": "AOrjobTC--oD"
      },
      "source": [
        "## <p style=\"color:green;\">Q.15 Write a Python program to sum all the items in a dictionary.</p>\n"
      ]
    },
    {
      "cell_type": "code",
      "execution_count": null,
      "metadata": {
        "id": "7abJQ0B0--oD",
        "outputId": "caa9582b-3f22-4dd2-abc9-371de7c63f3b"
      },
      "outputs": [
        {
          "name": "stdout",
          "output_type": "stream",
          "text": [
            "Enter number of keys for your dictionary5\n",
            "Enter a Key \n",
            "A\n",
            "Enter a value for your key \n",
            "1\n",
            "Enter a Key \n",
            "B\n",
            "Enter a value for your key \n",
            "2\n",
            "Enter a Key \n",
            "C\n",
            "Enter a value for your key \n",
            "3\n",
            "Enter a Key \n",
            "D\n",
            "Enter a value for your key \n",
            "4\n",
            "Enter a Key \n",
            "E\n",
            "Enter a value for your key \n",
            "5\n",
            "the sum of your dictionary values =  ['1', '2', '3', '4', '5']  =  15\n"
          ]
        }
      ],
      "source": [
        "#### Answer here \n",
        "my_dictionary = {}\n",
        "user_input_length = input(\"Enter number of keys for your dictionary\")\n",
        "for item in range (int(user_input_length)) : \n",
        "    key = input(\"Enter a Key \\n\")\n",
        "    key_value = input(\"Enter a value for your key \\n\")\n",
        "    my_dictionary.update({key : key_value})\n",
        "sumOfDictionaryValues = 0 ; \n",
        "for item in my_dictionary.values() : \n",
        "     sumOfDictionaryValues += int(item)\n",
        "print(\"the sum of your dictionary values = \" ,[item for item in my_dictionary.values()], \" = \" , sumOfDictionaryValues)"
      ]
    },
    {
      "cell_type": "markdown",
      "metadata": {
        "id": "9AURUtuk--oD"
      },
      "source": [
        "## <p style=\"color:green;\">Q.16 Write a Python program to add an item in a tuple.</p>\n"
      ]
    },
    {
      "cell_type": "code",
      "execution_count": null,
      "metadata": {
        "id": "9lAMnzjB--oE",
        "outputId": "2fb99ac4-43a9-4b2e-f971-09b651ee5832"
      },
      "outputs": [
        {
          "data": {
            "text/plain": [
              "('A', 'B', 'c', 'D', 'E')"
            ]
          },
          "execution_count": 12,
          "metadata": {},
          "output_type": "execute_result"
        }
      ],
      "source": [
        "# Answer here \n",
        "my_tuple = (\"A\" , \"B\" , \"c\" , \"D\") \n",
        "my_tuple = list(my_tuple)\n",
        "my_tuple.append(\"E\")\n",
        "my_tuple = tuple(my_tuple)\n",
        "my_tuple"
      ]
    },
    {
      "cell_type": "markdown",
      "metadata": {
        "id": "5T9gYHKS--oE"
      },
      "source": [
        "## <p style=\"color:green;\">Q.17 Write a Python program to convert a tuple to a string.</p>\n"
      ]
    },
    {
      "cell_type": "code",
      "execution_count": null,
      "metadata": {
        "id": "Dt71Y3ks--oE",
        "outputId": "844b2daa-78a2-43b9-a5f0-0c0800429143"
      },
      "outputs": [
        {
          "data": {
            "text/plain": [
              "'WORD'"
            ]
          },
          "execution_count": 14,
          "metadata": {},
          "output_type": "execute_result"
        }
      ],
      "source": [
        "# Answer here \n",
        "my_tuple = (\"W\" , \"O\" , \"R\" , \"D\") \n",
        "str = \"\"\n",
        "for letter in my_tuple :\n",
        "    str += letter\n",
        "str"
      ]
    },
    {
      "cell_type": "markdown",
      "metadata": {
        "id": "bTByq_n---oF"
      },
      "source": [
        "## <p style=\"color:green;\">Q.18 Write a Python program to remove item(s) from a given set.</p>\n"
      ]
    },
    {
      "cell_type": "code",
      "execution_count": null,
      "metadata": {
        "id": "cs2onqxb--oF",
        "outputId": "01b62202-5d2c-45e6-9065-1b8f6e3bc8ae"
      },
      "outputs": [
        {
          "name": "stdout",
          "output_type": "stream",
          "text": [
            "{0, 1, 2, 3, 4, 5, 6, 7, 8, 9}\n",
            "{0, 1, 2, 3, 4, 5, 7, 8, 9}\n"
          ]
        }
      ],
      "source": [
        "# Answer here \n",
        "list = [1,2,3,4,5,6,7,8,9,0]\n",
        "my_set = set(list)\n",
        "print(my_set)\n",
        "my_set.discard(6)\n",
        "print(my_set)"
      ]
    },
    {
      "cell_type": "markdown",
      "metadata": {
        "id": "J8tZqqO---oG"
      },
      "source": [
        "## <p style=\"color:orange;\">Q.19 Write a Python program to create an intersection of sets.</p>\n",
        "> Explanation : In mathematics, the intersection of two sets A and B, denoted by A ∩ B, is the set containing all elements of A that also belong to B (or equivalently, all elements of B that also belong to A)."
      ]
    },
    {
      "cell_type": "code",
      "execution_count": null,
      "metadata": {
        "id": "sRZRnmfr--oG",
        "outputId": "c513c0f5-5ea2-4892-e5f5-29d1bcf8e69d"
      },
      "outputs": [
        {
          "name": "stdout",
          "output_type": "stream",
          "text": [
            "{8, 9, 7}\n"
          ]
        }
      ],
      "source": [
        "# Answer here \n",
        "list1 = [1,2,3,4,5,6,7,8,9]\n",
        "list2 = [7,8,9,10,11,12,13]\n",
        "set1 = set(list1)\n",
        "set2 = set(list2) \n",
        "print(set1.intersection(set2))"
      ]
    },
    {
      "cell_type": "markdown",
      "metadata": {
        "id": "E1JbX1F_--oH"
      },
      "source": [
        "## <p style=\"color:orange;\">Q.20 Write a Python program to create a union of sets.</p>\n",
        "> Explanation :In mathematics, The union of two sets A and B is the set of elements which are in A, in B, or in both A and B. "
      ]
    },
    {
      "cell_type": "code",
      "execution_count": null,
      "metadata": {
        "id": "H-d-ViI2--oH",
        "outputId": "bdb2bf7d-b691-478b-d9c6-e24fcb4dd2da"
      },
      "outputs": [
        {
          "name": "stdout",
          "output_type": "stream",
          "text": [
            "{1, 2, 3, 4, 5, 6, 7, 8, 9, 10, 11, 12, 13}\n"
          ]
        }
      ],
      "source": [
        "# Answer here \n",
        "list1 = [1,2,3,4,5,6,7,8,9]\n",
        "list2 = [7,8,9,10,11,12,13]\n",
        "set1 = set(list1)\n",
        "set2 = set(list2) \n",
        "print(set1.union(set2))"
      ]
    },
    {
      "cell_type": "markdown",
      "metadata": {
        "id": "cDAXAlob--oH"
      },
      "source": [
        "# <center> Thank's for your effort ❤️ </center> "
      ]
    }
  ],
  "metadata": {
    "kernelspec": {
      "display_name": "Python 3 (ipykernel)",
      "language": "python",
      "name": "python3"
    },
    "language_info": {
      "codemirror_mode": {
        "name": "ipython",
        "version": 3
      },
      "file_extension": ".py",
      "mimetype": "text/x-python",
      "name": "python",
      "nbconvert_exporter": "python",
      "pygments_lexer": "ipython3",
      "version": "3.9.13"
    },
    "colab": {
      "provenance": []
    }
  },
  "nbformat": 4,
  "nbformat_minor": 0
}
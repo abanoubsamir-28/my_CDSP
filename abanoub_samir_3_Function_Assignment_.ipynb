{
  "cells": [
    {
      "cell_type": "markdown",
      "metadata": {
        "id": "NhSuq8iOu2hI"
      },
      "source": [
        "> # Dear Epsilon Students, \n",
        "> # The More you practice The better You'll Be."
      ]
    },
    {
      "cell_type": "markdown",
      "metadata": {
        "id": "c3ZsdsdRu2hQ"
      },
      "source": [
        "### Instructions: \n",
        "- Make sure that you understand this topics before you start.\n",
        "- If you found something hard to do, try and try then google it and finally ask someone. \n",
        "- You can divide this work into daily tasks so that you do not feel pressure.\n",
        "- After you finish, go to model answer and rate yourself. \n",
        "- If you find something ambiguous, Try to make a hypothesis to solve a problem. "
      ]
    },
    {
      "cell_type": "markdown",
      "metadata": {
        "id": "Sy8kS7xCu2hR"
      },
      "source": [
        "### Question classification: \n",
        "- Green is level 1 \n",
        "- Orange is level 2 \n",
        "- Red is level 3 "
      ]
    },
    {
      "cell_type": "markdown",
      "metadata": {
        "id": "Hkmezrt9u2hS"
      },
      "source": [
        "# <center> Let's start 💪 </center> "
      ]
    },
    {
      "cell_type": "markdown",
      "metadata": {
        "id": "Ra0Hxhqmu2hT"
      },
      "source": [
        "## <p style=\"color:green;\">Q.01 Write a function takes a two-word string and returns True if both words begin with same letter</p>\n",
        "> ('Levelheaded Llama') → True\n",
        "\n",
        "> ('Crazy Kangaroo') → False"
      ]
    },
    {
      "cell_type": "code",
      "execution_count": null,
      "metadata": {
        "colab": {
          "base_uri": "https://localhost:8080/"
        },
        "id": "rpLtkRpqu2hU",
        "outputId": "1611d948-d0cc-4907-e6dd-3435aac7980f"
      },
      "outputs": [
        {
          "output_type": "stream",
          "name": "stdout",
          "text": [
            "This is One Word !!\n",
            "True\n",
            "False\n"
          ]
        }
      ],
      "source": [
        "# Answer here \n",
        "def matchString(words) : \n",
        "  wordsArr = words.split(\" \")\n",
        "  if(len(wordsArr) == 1) :\n",
        "    return \"This is One Word !!\" \n",
        "  else :\n",
        "    return wordsArr[0][0] == wordsArr[1][0]\n",
        "  \n",
        "print(matchString(\"fsadfsafsfadfsafas\"))\n",
        "print(matchString(\"Levelheaded Llama\"))\n",
        "print(matchString(\"Crazy Kangaroo\"))"
      ]
    },
    {
      "cell_type": "markdown",
      "metadata": {
        "id": "rIw3ZPXOu2hY"
      },
      "source": [
        "## <p style=\"color:green;\">Q.02 Write a function that returns the lesser of two given numbers if both numbers are even, but returns the greater if one or both numbers are odd</p>\n",
        "\n",
        "> (2,4) → 2\n",
        "\n",
        "> (2,5) → 5"
      ]
    },
    {
      "cell_type": "code",
      "execution_count": null,
      "metadata": {
        "colab": {
          "base_uri": "https://localhost:8080/"
        },
        "id": "Nka2VqKvu2ha",
        "outputId": "4b84488c-b2e3-4f57-ef21-1951c1a45303"
      },
      "outputs": [
        {
          "output_type": "stream",
          "name": "stdout",
          "text": [
            "2\n",
            "5\n"
          ]
        }
      ],
      "source": [
        "# Answer here \n",
        "def numberCheckers(args) :\n",
        "    if(args[0] % 2 == 0 and args[1] % 2 ==0 ) :\n",
        "      return min(args)\n",
        "    else : return max (args)\n",
        "print(numberCheckers([2,4])) \n",
        "print(numberCheckers([2,5])) "
      ]
    },
    {
      "cell_type": "markdown",
      "metadata": {
        "id": "4u8Hb-RPu2hb"
      },
      "source": [
        "## <p style=\"color:green;\">Q.03 Write a function that capitalizes the first and fourth letters of a name</p>\n",
        "> ('macdonald') → MacDonald"
      ]
    },
    {
      "cell_type": "code",
      "execution_count": null,
      "metadata": {
        "colab": {
          "base_uri": "https://localhost:8080/"
        },
        "id": "ITwcUcLTu2hb",
        "outputId": "d04bbced-9180-42d5-9c37-cba3a5b8d437"
      },
      "outputs": [
        {
          "output_type": "stream",
          "name": "stdout",
          "text": [
            "TesT\n",
            "enter word have more than 4 letters\n",
            "MacDonald\n"
          ]
        }
      ],
      "source": [
        "# Answer here \n",
        "def capitalizeWord(word) :\n",
        "  if(len(word) >= 4) :\n",
        "      newWord = [l for l in word]\n",
        "      newWord[0] = newWord[0].capitalize()\n",
        "      newWord[3] = newWord[3].capitalize()\n",
        "      return \"\".join(newWord)\n",
        "  else : \n",
        "      return \"enter word have more than 4 letters\"\n",
        "\n",
        "print(capitalizeWord('test'))\n",
        "print(capitalizeWord('tes'))\n",
        "print(capitalizeWord('macdonald'))"
      ]
    },
    {
      "cell_type": "markdown",
      "metadata": {
        "id": "gIRG7QySu2hc"
      },
      "source": [
        "## <p style=\"color:green;\">Q.04 Given a sentence, return a sentence with the words reversed</p>\n",
        "> ('I am home') → 'home am I'"
      ]
    },
    {
      "cell_type": "code",
      "execution_count": null,
      "metadata": {
        "colab": {
          "base_uri": "https://localhost:8080/"
        },
        "id": "LuGZIHu8u2hc",
        "outputId": "8376c7d6-d1a9-4947-c3e4-3287adc9cbb1"
      },
      "outputs": [
        {
          "output_type": "stream",
          "name": "stdout",
          "text": [
            "home am I\n"
          ]
        }
      ],
      "source": [
        "# Answer here \n",
        "def reverseSentense(sentense) :\n",
        "    newSentence = sentense.split(\" \") \n",
        "    if(len(newSentence) < 2) :\n",
        "      return \"Enter a Sentence have more than one word !!\" \n",
        "    else : \n",
        "      newSentence = list(reversed(newSentence))\n",
        "      newSentence = \" \".join(newSentence)\n",
        "      return newSentence\n",
        "\n",
        "print(reverseSentense(\"I am home\"))"
      ]
    },
    {
      "cell_type": "markdown",
      "metadata": {
        "id": "Q-Oq6xmLu2hd"
      },
      "source": [
        "## <p style=\"color:orange;\">Q.05 Given a list of ints, return True if the array contains a 3 next to a 3 somewhere.</p>\n",
        "> has_33([1, 3, 3]) → True\n",
        "\n",
        "> has_33([1, 3, 1, 3]) → False\n"
      ]
    },
    {
      "cell_type": "code",
      "execution_count": null,
      "metadata": {
        "id": "5QfSqctwu2hd",
        "colab": {
          "base_uri": "https://localhost:8080/"
        },
        "outputId": "828d6f57-17fa-4f07-9711-2d69aaa5d442"
      },
      "outputs": [
        {
          "output_type": "stream",
          "name": "stdout",
          "text": [
            "true\n",
            "false\n"
          ]
        }
      ],
      "source": [
        "# Answer here \n",
        "def has_33 (arg) :\n",
        "  for index , element in enumerate(arg) : \n",
        "      if element == 3 and index != len(arg)-1 and arg[index + 1] == 3 : \n",
        "        return \"true\" \n",
        "  return \"false\" ; \n",
        "\n",
        "print(has_33([1,3,3]))\n",
        "print(has_33([1, 3, 1, 3]))"
      ]
    },
    {
      "cell_type": "markdown",
      "metadata": {
        "id": "vqVFByjBu2he"
      },
      "source": [
        "## <p style=\"color:orange;\">Q.06 BLACKJACK: Given three integers between 1 and 11, if their sum is less than or equal to 21, return their sum. If their sum exceeds 21 and there's an eleven, reduce the total sum by 10. Finally, if the sum (even after adjustment) exceeds 21, return 'BUST'¶</p>\n",
        "\n",
        ">blackjack(5,6,7) → 18\n",
        "\n",
        ">blackjack(9,9,9) → 'BUST'\n",
        "\n",
        ">blackjack(9,9,11) → 19"
      ]
    },
    {
      "cell_type": "code",
      "execution_count": null,
      "metadata": {
        "id": "V5R8MH6Ou2he",
        "colab": {
          "base_uri": "https://localhost:8080/"
        },
        "outputId": "395443c1-a6e3-4df9-a01a-758d2457994c"
      },
      "outputs": [
        {
          "output_type": "stream",
          "name": "stdout",
          "text": [
            "18\n",
            "BUST\n",
            "19\n"
          ]
        }
      ],
      "source": [
        "# Answer here \n",
        "import functools \n",
        "import operator \n",
        "def blackjack (args) : \n",
        "  sum = functools.reduce(operator.add , args)\n",
        "  if(sum <= 21) :\n",
        "    return sum \n",
        "  if(sum > 21) : \n",
        "    if 11 in args :\n",
        "      return sum-10\n",
        "    else :\n",
        "      return 'BUST'\n",
        "\n",
        "\n",
        "print(blackjack([5,6,7]))\n",
        "print(blackjack([9,9,9]))\n",
        "print(blackjack([9,9,11]))"
      ]
    },
    {
      "cell_type": "markdown",
      "metadata": {
        "id": "yXnS2TvIu2hf"
      },
      "source": [
        "## <p style=\"color:red;\">Q.07 SUMMER OF '69: Return the sum of the numbers in the array, except ignore sections of numbers starting with a 6 and extending to the next 9 (every 6 will be followed by at least one 9). Return 0 for no numbers.</p>\n",
        ">summer_69([1, 3, 5]) → 9\n",
        "\n",
        ">summer_69([4, 5, 6, 7, 8, 9]) → 9\n",
        "\n",
        ">summer_69([2, 1, 6, 9, 11]) → 14"
      ]
    },
    {
      "cell_type": "code",
      "execution_count": null,
      "metadata": {
        "id": "NU601p6qu2hf",
        "colab": {
          "base_uri": "https://localhost:8080/"
        },
        "outputId": "ce231e20-27fb-4860-cc48-daeb6a49f6b1"
      },
      "outputs": [
        {
          "output_type": "stream",
          "name": "stdout",
          "text": [
            "9\n",
            "9\n",
            "14\n"
          ]
        }
      ],
      "source": [
        "import functools \n",
        "import operator \n",
        "# Answer here \n",
        "def summer_69 (arg) : \n",
        "  if 6 in arg :\n",
        "    before_6 = functools.reduce(operator.add , arg[0:arg.index(6)])\n",
        "    if 9 in arg :\n",
        "      if(arg.index(9)!=len(arg)-1) :\n",
        "        after_9 = functools.reduce(operator.add , arg[arg.index(9)+1:])\n",
        "        return after_9 + before_6    \n",
        "      else :\n",
        "        return before_6\n",
        "  else : \n",
        "    return functools.reduce(operator.add , arg)\n",
        "\n",
        "\n",
        "\n",
        "print(summer_69([1, 3, 5])) \n",
        "print(summer_69([4, 5, 6, 7, 8, 9]))\n",
        "print(summer_69([2, 1, 6, 9, 11]))"
      ]
    },
    {
      "cell_type": "markdown",
      "metadata": {
        "id": "rDPudyYDu2hg"
      },
      "source": [
        "## <p style=\"color:red;\">Q.08 SPY GAME: Write a function that takes in a list of integers and returns True if it contains 007 in order</p>\n",
        "\n",
        ">spy_game([1,2,4,0,0,7,5]) → True\n",
        "\n",
        "> spy_game([1,0,2,4,0,5,7]) → True\n",
        "\n",
        " >spy_game([1,7,2,0,4,5,0]) → False\n"
      ]
    },
    {
      "cell_type": "code",
      "execution_count": null,
      "metadata": {
        "id": "jBOayOyeu2hg",
        "colab": {
          "base_uri": "https://localhost:8080/"
        },
        "outputId": "b76359f6-51d8-40a0-f5aa-3748279e7839"
      },
      "outputs": [
        {
          "output_type": "stream",
          "name": "stdout",
          "text": [
            "True\n",
            "True\n",
            "False\n"
          ]
        }
      ],
      "source": [
        "# Answer here \n",
        "def spy_game(arg) :\n",
        "  checker = []\n",
        "  for n in arg :\n",
        "    if(n == 0 or n==7) :\n",
        "      checker.append(n)\n",
        "  return sorted(checker) == checker\n",
        "\n",
        "print(spy_game([1,2,4,0,0,7,5]))\n",
        "print(spy_game([1,0,2,4,0,5,7]))\n",
        "print(spy_game([1,7,2,0,4,5,0]))"
      ]
    },
    {
      "cell_type": "markdown",
      "metadata": {
        "id": "Rus0vaHCu2hh"
      },
      "source": [
        "## <p style=\"color:green;\">Q.09 Write a function that checks whether a number is in a given range (inclusive of high and low)</p>\n"
      ]
    },
    {
      "cell_type": "code",
      "execution_count": null,
      "metadata": {
        "id": "aKlCp6Gdu2hh",
        "colab": {
          "base_uri": "https://localhost:8080/"
        },
        "outputId": "5744824b-cde2-4026-c5b4-89bdec0ed576"
      },
      "outputs": [
        {
          "output_type": "stream",
          "name": "stdout",
          "text": [
            "true\n",
            "false\n",
            "true\n"
          ]
        }
      ],
      "source": [
        "# Answer here \n",
        "def inRange (low , high , number) :\n",
        "    if number in range(low+1 , high+1) :\n",
        "      return 'true' \n",
        "    else : \n",
        "      return 'false' \n",
        "print(inRange(1,10,8)) \n",
        "print(inRange(1,10,20)) \n",
        "print(inRange(1,10,10)) "
      ]
    },
    {
      "cell_type": "markdown",
      "metadata": {
        "id": "-v-xMTw0u2hh"
      },
      "source": [
        "## <p style=\"color:orange;\">Q.10 Write a Python function to multiply all the numbers in a list.</p>\n",
        "> Sample List : [1, 2, 3, -4]\n",
        "\n",
        "> Expected Output : -24"
      ]
    },
    {
      "cell_type": "code",
      "execution_count": null,
      "metadata": {
        "id": "NL_rvhlau2hi",
        "colab": {
          "base_uri": "https://localhost:8080/"
        },
        "outputId": "e33d739e-5a6c-490b-cf13-84d767ad4fc2"
      },
      "outputs": [
        {
          "output_type": "stream",
          "name": "stdout",
          "text": [
            "-24\n"
          ]
        }
      ],
      "source": [
        "# Answer here \n",
        "import functools \n",
        "import operator \n",
        "def multiply(arg) : \n",
        "  return functools.reduce(operator.mul,arg)\n",
        "\n",
        "print(multiply([1, 2, 3, -4]))"
      ]
    },
    {
      "cell_type": "markdown",
      "metadata": {
        "id": "AKrmKwatu2hi"
      },
      "source": [
        "## <p style=\"color:red;\">Q.11 Write a Python function that checks whether a passed string is palindrome or not.</p>\n",
        ">Note: A palindrome is word, phrase, or sequence that reads the same backward as forward, e.g., madam or nurses run."
      ]
    },
    {
      "cell_type": "code",
      "execution_count": null,
      "metadata": {
        "id": "WNyGktK4u2hm",
        "colab": {
          "base_uri": "https://localhost:8080/"
        },
        "outputId": "5ca9bb90-c82f-4181-cc70-b06d9ad45c39"
      },
      "outputs": [
        {
          "output_type": "stream",
          "name": "stdout",
          "text": [
            "Not Palindrome\n",
            "palindrome\n"
          ]
        }
      ],
      "source": [
        "# Answer here \n",
        "def palindromeChecker(word) :\n",
        "    wordReversed = []\n",
        "    for l in range(len(word)) : \n",
        "       wordReversed.append(word[len(word)-l-1])\n",
        "    return \"palindrome\" if \"\".join(wordReversed) == word else \"Not Palindrome\" \n",
        "\n",
        "print(palindromeChecker(\"sentence\"))\n",
        "print(palindromeChecker(\"madam\"))"
      ]
    },
    {
      "cell_type": "markdown",
      "metadata": {
        "id": "06krqgBwu2hn"
      },
      "source": [
        "## <p style=\"color:green;\">Q.12 Write a Python program to create a lambda function that adds 15 to a given number passed in as an argument\n"
      ]
    },
    {
      "cell_type": "code",
      "execution_count": null,
      "metadata": {
        "id": "hGo7s8H4u2hn",
        "colab": {
          "base_uri": "https://localhost:8080/"
        },
        "outputId": "5ec70fa6-0df5-4bb9-96f9-36d2aaa23f9e"
      },
      "outputs": [
        {
          "output_type": "stream",
          "name": "stdout",
          "text": [
            "15\n"
          ]
        }
      ],
      "source": [
        "# Answer here \n",
        "def add_15(number=0) :\n",
        "  return lambda number : number+15 \n",
        "\n",
        "my_func_test = add_15()\n",
        "print(my_func_test(0))\n"
      ]
    },
    {
      "cell_type": "markdown",
      "metadata": {
        "id": "PXOcCBZbu2hn"
      },
      "source": [
        "## <p style=\"color:green;\">Q.13 create a lambda function that multiplies argument x with argument y and print the result.</p>\n"
      ]
    },
    {
      "cell_type": "code",
      "execution_count": null,
      "metadata": {
        "id": "LRH3fqkju2ho",
        "colab": {
          "base_uri": "https://localhost:8080/"
        },
        "outputId": "b553fc7c-f8da-4aa3-b177-6368baad261f"
      },
      "outputs": [
        {
          "output_type": "stream",
          "name": "stdout",
          "text": [
            "100\n"
          ]
        }
      ],
      "source": [
        "# Answer here \n",
        "def mul_15(num1=0 , num2=0) :\n",
        "  return lambda num1 , num2 : num1 * num2 \n",
        "\n",
        "my_func_test = mul_15()\n",
        "print(my_func_test(10,10))\n"
      ]
    },
    {
      "cell_type": "markdown",
      "metadata": {
        "id": "pxelGJ0pu2ho"
      },
      "source": [
        "## <p style=\"color:orange;\">Q.14 Write a Python program to filter a list of integers using Lambda. </p>\n",
        "> Original list of integers:[1, 2, 3, 4, 5, 6, 7, 8, 9, 10]\n",
        "\n",
        "> Even numbers from the said list:[2, 4, 6, 8, 10]\n",
        "\n",
        "> Odd numbers from the said list:[1, 3, 5, 7, 9]\n"
      ]
    },
    {
      "cell_type": "code",
      "execution_count": null,
      "metadata": {
        "id": "wGWWGFp1u2hp",
        "colab": {
          "base_uri": "https://localhost:8080/"
        },
        "outputId": "805b7fd7-381a-4b48-bb1e-9395ae60072f"
      },
      "outputs": [
        {
          "output_type": "stream",
          "name": "stdout",
          "text": [
            "{'even': [2, 4, 6, 8, 10], 'odd': [1, 3, 5, 7, 9]}\n"
          ]
        }
      ],
      "source": [
        "# Answer here \n",
        "def FILTER_func(arg=[]) :\n",
        "    even = list(filter(lambda number : number % 2 ==0 , arg))  \n",
        "    odd = list(filter(lambda number : number % 2 !=0 , arg))  \n",
        "    return {'even' : even , 'odd':odd}\n",
        "\n",
        "print(FILTER_func([1, 2, 3, 4, 5, 6, 7, 8, 9, 10]))"
      ]
    },
    {
      "cell_type": "markdown",
      "metadata": {
        "id": "j33x-Ss0u2hp"
      },
      "source": [
        "## <p style=\"color:green;\">Q.15 Write a Python program to triple all numbers of a given list of integers. Use Python map.</p>\n"
      ]
    },
    {
      "cell_type": "code",
      "execution_count": null,
      "metadata": {
        "id": "aFjlRb_cu2hp",
        "colab": {
          "base_uri": "https://localhost:8080/"
        },
        "outputId": "bb5466a1-bbef-464d-b78a-213a66275589"
      },
      "outputs": [
        {
          "output_type": "stream",
          "name": "stdout",
          "text": [
            "[3, 6, 9, 12, 15, 18, 21, 24, 27, 30]\n"
          ]
        }
      ],
      "source": [
        "# Answer here \n",
        "def triple_elements(arg=[]) :\n",
        "  result = list(map(lambda num : num*3 , arg))\n",
        "  return result\n",
        "print(triple_elements([1, 2, 3, 4, 5, 6, 7, 8, 9, 10]))"
      ]
    },
    {
      "cell_type": "markdown",
      "metadata": {
        "id": "zIjY77ntu2hp"
      },
      "source": [
        "## <p style=\"color:orange;\">Q.16 Write a Python program to add three given lists using Python map and lambda.\n",
        "\n",
        "</p>\n"
      ]
    },
    {
      "cell_type": "code",
      "execution_count": null,
      "metadata": {
        "id": "JnkvBHvgu2hr",
        "colab": {
          "base_uri": "https://localhost:8080/"
        },
        "outputId": "1b6f0d4a-3d93-442e-86f1-6df53f63de36"
      },
      "outputs": [
        {
          "output_type": "stream",
          "name": "stdout",
          "text": [
            "[16, 19, 22, 25]\n"
          ]
        }
      ],
      "source": [
        "# Answer here \n",
        "def add_lists (list1 , list2 , list3) :\n",
        "   return list(map(lambda num1 , num2 , num3 : num1+num2+num3 , list1,list2,list3))\n",
        "\n",
        "print(add_lists ([1,2,3,4] , [5,6,7,8,9] , [10,11,12,13]))"
      ]
    },
    {
      "cell_type": "markdown",
      "metadata": {
        "id": "mO1MziSpu2hr"
      },
      "source": [
        "## <p style=\"color:orange;\">Q.17 Write a Python program to square the elements of a list using map() function.</p>\n"
      ]
    },
    {
      "cell_type": "code",
      "execution_count": null,
      "metadata": {
        "id": "OfjRhnQPu2hr",
        "colab": {
          "base_uri": "https://localhost:8080/"
        },
        "outputId": "90b31c8e-b55c-427d-bf95-a614b5342b95"
      },
      "outputs": [
        {
          "output_type": "stream",
          "name": "stdout",
          "text": [
            "[1, 4, 9, 16, 25, 36, 49, 64, 81, 100]\n"
          ]
        }
      ],
      "source": [
        "# Answer here \n",
        "def SQRT(arg) :\n",
        "  return list(map(lambda x : x*x , arg))\n",
        "\n",
        "print(SQRT([1, 2, 3, 4, 5, 6, 7, 8, 9, 10]))\n"
      ]
    },
    {
      "cell_type": "markdown",
      "metadata": {
        "id": "1lD5THx3u2hs"
      },
      "source": [
        "## <p style=\"color:green;\">Q.18 Using filter() function filter the list so that only negative numbers are left.</p>\n",
        "> lst1  [12,-1,9,8,-.5,-.2,-100]\n"
      ]
    },
    {
      "cell_type": "code",
      "execution_count": null,
      "metadata": {
        "id": "rJem-_5pu2hs",
        "colab": {
          "base_uri": "https://localhost:8080/"
        },
        "outputId": "490c0449-7cc3-49d0-ab74-d780f1155038"
      },
      "outputs": [
        {
          "output_type": "stream",
          "name": "stdout",
          "text": [
            "[-1, -0.5, -0.2, -100]\n"
          ]
        }
      ],
      "source": [
        "# Answer here \n",
        "def waving_positivity (arg) :\n",
        "  return list(filter(lambda x : x < 0 , arg))\n",
        "\n",
        "print(waving_positivity([12,-1,9,8,-.5,-.2,-100]))\n"
      ]
    },
    {
      "cell_type": "markdown",
      "metadata": {
        "id": "pxHpE6nTu2hs"
      },
      "source": [
        "## <p style=\"color:green;\">Q.19 Using filter function, filter the even numbers so that only odd numbers are passed to the new list.</p>\n",
        "> lst1  [22,100,19,13,11,1,4,66]\n"
      ]
    },
    {
      "cell_type": "code",
      "execution_count": null,
      "metadata": {
        "id": "qPajqlemu2ht",
        "colab": {
          "base_uri": "https://localhost:8080/"
        },
        "outputId": "9025a51b-d0eb-4d38-d0d8-1cb7d2338086"
      },
      "outputs": [
        {
          "output_type": "stream",
          "name": "stdout",
          "text": [
            "[1, 3, 5, 7, 9, 11, 13, 15, 17, 19]\n"
          ]
        }
      ],
      "source": [
        "# Answer here\n",
        "def waving_evens (arg) :\n",
        "  odds = list(filter(lambda x : x %2 != 0 , arg))\n",
        "  return odds\n",
        "\n",
        "print(waving_evens([1,2,3,4,5,6,7,8,9,10,11,12,13,14,15,16,17,18,19,20]))\n"
      ]
    },
    {
      "cell_type": "markdown",
      "metadata": {
        "id": "66H_di4xu2ht"
      },
      "source": [
        "## <p style=\"color:green;\">Q.20 Using map() and filter() functions add 2000 to the values below 8000.</p>\n",
        "> lst [1000,500,600,700,5000,90000,17500]"
      ]
    },
    {
      "cell_type": "code",
      "execution_count": null,
      "metadata": {
        "id": "383SP9Sou2ht",
        "colab": {
          "base_uri": "https://localhost:8080/"
        },
        "outputId": "d71e7c7b-e0b3-4639-e8da-94ca25135889"
      },
      "outputs": [
        {
          "output_type": "execute_result",
          "data": {
            "text/plain": [
              "[3000, 2500, 2600, 2700, 7000]"
            ]
          },
          "metadata": {},
          "execution_count": 23
        }
      ],
      "source": [
        "# Answer here \n",
        "def strange_func_to_add_2000 (arg) :\n",
        "    return list(map(lambda num : num + 2000 , list(filter(lambda x : x < 8000 , arg))))\n",
        "\n",
        "\n",
        "strange_func_to_add_2000([1000,500,600,700,5000,90000,17500])"
      ]
    },
    {
      "cell_type": "markdown",
      "metadata": {
        "id": "nw6LApIBu2ht"
      },
      "source": [
        "# <center> Thank's for your effort ❤️ </center> "
      ]
    }
  ],
  "metadata": {
    "kernelspec": {
      "display_name": "Python 3",
      "language": "python",
      "name": "python3"
    },
    "language_info": {
      "codemirror_mode": {
        "name": "ipython",
        "version": 3
      },
      "file_extension": ".py",
      "mimetype": "text/x-python",
      "name": "python",
      "nbconvert_exporter": "python",
      "pygments_lexer": "ipython3",
      "version": "3.8.5"
    },
    "colab": {
      "provenance": []
    }
  },
  "nbformat": 4,
  "nbformat_minor": 0
}
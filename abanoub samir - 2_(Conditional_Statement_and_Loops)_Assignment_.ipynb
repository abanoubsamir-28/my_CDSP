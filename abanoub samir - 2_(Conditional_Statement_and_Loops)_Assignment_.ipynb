{
 "cells": [
  {
   "cell_type": "markdown",
   "metadata": {
    "id": "fvNUabv72xlO"
   },
   "source": [
    "> # Dear Epsilon Students, \n",
    "> # The More you practice The better You'll Be."
   ]
  },
  {
   "cell_type": "markdown",
   "metadata": {
    "id": "yqI6VIFN2xlp"
   },
   "source": [
    "### Instructions: \n",
    "- Make sure that you understand this topics before you start.\n",
    "- If you found something hard to do, try and try then google it and finally ask someone. \n",
    "- You can divide this work into daily tasks so that you do not feel pressure.\n",
    "- After you finish, go to model answer and rate yourself. \n",
    "- If you find something ambiguous, Try to make a hypothesis to solve a problem. "
   ]
  },
  {
   "cell_type": "markdown",
   "metadata": {
    "id": "RZdNIhPi2xlt"
   },
   "source": [
    "### Question classification: \n",
    "- Green is level 1 \n",
    "- Orange is level 2 \n",
    "- Red is level 3 "
   ]
  },
  {
   "cell_type": "markdown",
   "metadata": {
    "id": "3lsw1b5y2xlx"
   },
   "source": [
    "# <center> Let's start 💪 </center> "
   ]
  },
  {
   "cell_type": "markdown",
   "metadata": {
    "id": "iy2WYWvg2xl0"
   },
   "source": [
    "## <p style=\"color:orange;\">Q.01 print out words that start with 's' in the following sentence.</p>\n",
    "> st = 'Print only the words that start with s in this sentence'"
   ]
  },
  {
   "cell_type": "code",
   "execution_count": 6,
   "metadata": {
    "id": "lN4IWgRf2xl4"
   },
   "outputs": [
    {
     "name": "stdout",
     "output_type": "stream",
     "text": [
      "start\n",
      "s\n",
      "sentence\n"
     ]
    }
   ],
   "source": [
    "# Answer here \n",
    "st = 'Print only the words that start with s in this sentence'\n",
    "for word in st.rsplit(\" \") :\n",
    "    if (word[0]=='s') :\n",
    "        print(word)"
   ]
  },
  {
   "cell_type": "markdown",
   "metadata": {
    "id": "LLWxfZm02xl9"
   },
   "source": [
    "## <p style=\"color:orange;\">Q.02 Use List comprehension to create a list of all numbers between 1 and 50 that are divisible by 3.</p>"
   ]
  },
  {
   "cell_type": "code",
   "execution_count": 12,
   "metadata": {
    "id": "r6jcwZn_2xl_"
   },
   "outputs": [
    {
     "data": {
      "text/plain": [
       "[3, 6, 9, 12, 15, 18, 21, 24, 27, 30, 33, 36, 39, 42, 45, 48]"
      ]
     },
     "execution_count": 12,
     "metadata": {},
     "output_type": "execute_result"
    }
   ],
   "source": [
    "# Answer here \n",
    "[x for x in [x for x in range(1,50)] if x % 3 == 0]\n",
    "    "
   ]
  },
  {
   "cell_type": "markdown",
   "metadata": {
    "id": "4hsUSYFE2xmC"
   },
   "source": [
    "## <p style=\"color:orange;\">Q.03 Go through the string below and if the length of a word is even print \"even!\"</p>\n",
    "> st = 'Print only the words that start with s in this sentence'"
   ]
  },
  {
   "cell_type": "code",
   "execution_count": 19,
   "metadata": {
    "id": "4-PEgDMF2xmH"
   },
   "outputs": [
    {
     "name": "stdout",
     "output_type": "stream",
     "text": [
      "( only ) 4 is even\n",
      "( that ) 4 is even\n",
      "( with ) 4 is even\n",
      "( in ) 2 is even\n",
      "( this ) 4 is even\n",
      "( sentence ) 8 is even\n"
     ]
    }
   ],
   "source": [
    "# Answer here \n",
    "st = 'Print only the words that start with s in this sentence'\n",
    "for word in st.rsplit() :\n",
    "    if len(word)%2==0 : \n",
    "        print( \"(\" , word , \")\" , len(word) , \"is even\")"
   ]
  },
  {
   "cell_type": "markdown",
   "metadata": {
    "id": "_d8J54Vv2xmJ"
   },
   "source": [
    "## <p style=\"color:green;\">Q.04 Given X which is a password. Print \"Wrong\" if the password is incorrect otherwise, print \"Correct\" and terminate the program.</p>\n",
    "> The \"Correct\" password is the number 1999.\n",
    "\n",
    "> Note: Don't end the program even if the user write the correct password."
   ]
  },
  {
   "cell_type": "code",
   "execution_count": 1,
   "metadata": {
    "id": "t505hrqE2xmL"
   },
   "outputs": [
    {
     "name": "stdout",
     "output_type": "stream",
     "text": [
      "Enter passwordfsdfsa\n",
      "Wrong !\n",
      "Enter password1999\n",
      "Correct\n"
     ]
    }
   ],
   "source": [
    "# Answer here \n",
    "user_input = input(\"Enter password\")\n",
    "while (user_input != \"1999\") :\n",
    "    print(\"Wrong !\") \n",
    "    user_input = input(\"Enter password\")\n",
    "print(\"Correct\")  "
   ]
  },
  {
   "cell_type": "markdown",
   "metadata": {
    "id": "0cFrnORp2xmN"
   },
   "source": [
    "## <p style=\"color:red;\">Q.05 Given a number N. Print the factorial of number N.</p>\n",
    "> For information about factorial: https://en.wikipedia.org/wiki/Factorial"
   ]
  },
  {
   "cell_type": "code",
   "execution_count": 13,
   "metadata": {
    "id": "vvsi5GaV2xmP"
   },
   "outputs": [
    {
     "data": {
      "text/plain": [
       "3628800"
      ]
     },
     "execution_count": 13,
     "metadata": {},
     "output_type": "execute_result"
    }
   ],
   "source": [
    "# Answer here \n",
    "def getFactorial(num) : \n",
    "    factorial = num * getFactorial(num-1) if num !=0 else  1 \n",
    "    return factorial\n",
    "\n",
    "getFactorial(10)"
   ]
  },
  {
   "cell_type": "markdown",
   "metadata": {
    "id": "RpDCNjNQ2xmR"
   },
   "source": [
    "## <p style=\"color:red;\">Q.06 Given a number N.print sum of numbers from 1 to N, Using a loop.</p>\n",
    "> list4 = [5,3,4,6,1]"
   ]
  },
  {
   "cell_type": "code",
   "execution_count": 16,
   "metadata": {
    "id": "j9Gg-kLL2xmS"
   },
   "outputs": [
    {
     "data": {
      "text/plain": [
       "45"
      ]
     },
     "execution_count": 16,
     "metadata": {},
     "output_type": "execute_result"
    }
   ],
   "source": [
    "# Answer here \n",
    "def sumFunc(args) :\n",
    "    sum = 0 \n",
    "    for number in args :\n",
    "        sum += number \n",
    "    return sum \n",
    "\n",
    "sumFunc([1,2,3,4,5,6,7,8,9])"
   ]
  },
  {
   "cell_type": "markdown",
   "metadata": {
    "id": "zp7qTa0n2xmU"
   },
   "source": [
    "## <p style=\"color:orange;\">Q.07 - Write a Python program to construct the following pattern.</p>\n"
   ]
  },
  {
   "cell_type": "raw",
   "metadata": {
    "id": "-Wn2WFWq2xmW"
   },
   "source": [
    "* \n",
    "* * \n",
    "* * * \n",
    "* * * * \n",
    "* * * * * "
   ]
  },
  {
   "cell_type": "code",
   "execution_count": 7,
   "metadata": {
    "id": "Yu1XKq_S2xmX"
   },
   "outputs": [
    {
     "name": "stdout",
     "output_type": "stream",
     "text": [
      "* \n",
      "* * \n",
      "* * * \n",
      "* * * * \n",
      "* * * * * \n"
     ]
    }
   ],
   "source": [
    "# Answer here \n",
    "\n",
    "def patternDrawer () :\n",
    "    rows = 5 \n",
    "    cols = 1\n",
    "    for row in range(rows) :\n",
    "        for col in range(cols) :\n",
    "            if(cols <= 5) :\n",
    "                print(cols * \"* \") \n",
    "                cols+=1\n",
    "patternDrawer()"
   ]
  },
  {
   "cell_type": "markdown",
   "metadata": {
    "id": "O7KpFyls2xmY"
   },
   "source": [
    "## <p style=\"color:green;\">Q.08 Write a Python program that prints all the numbers from 0 to 6 except 3 and 6.</p>\n"
   ]
  },
  {
   "cell_type": "code",
   "execution_count": 66,
   "metadata": {
    "id": "a9tglXUw2xmZ"
   },
   "outputs": [
    {
     "name": "stdout",
     "output_type": "stream",
     "text": [
      "1\n",
      "2\n",
      "4\n",
      "5\n"
     ]
    }
   ],
   "source": [
    "# Answer here \n",
    "for num in range(6) :\n",
    "    if(num%3!=0) :\n",
    "        print(num)"
   ]
  },
  {
   "cell_type": "markdown",
   "metadata": {
    "id": "iAnWe9ro2xmb"
   },
   "source": [
    "## <p style=\"color:green;\">Q.09 Timon has a candies and his friend, Pumbaa, has b candies, so Pumbaa asked Timon to tell him the value of a−b. However, Timon will tell him the value of a−b if the value is ≥0; otherwise, he will lie and say 0. Since it was a hard task for Timon, he's asking for your help.</p>\n"
   ]
  },
  {
   "cell_type": "code",
   "execution_count": 72,
   "metadata": {
    "id": "w2KBifVj2xmc"
   },
   "outputs": [
    {
     "name": "stdout",
     "output_type": "stream",
     "text": [
      "How many candies Timon have :  20\n",
      "How many candies Pumbaa Have :   30\n",
      "0\n"
     ]
    }
   ],
   "source": [
    "# Answer here \n",
    "a = int(input(\"How many candies Timon have :  \"))\n",
    "b = int(input(\"How many candies Pumbaa Have :   \"))\n",
    "if(a-b >= 0) :\n",
    "    print(a-b) \n",
    "else : \n",
    "    print(0)"
   ]
  },
  {
   "cell_type": "markdown",
   "metadata": {
    "id": "vbDDQ7-l2xme"
   },
   "source": [
    "## <p style=\"color:green;\">Q.10 Given a list. Replace every positive number by 1, Replace every negative number by 2.</p>\n",
    "> [19, 20, 21, 10, -53, -23, 10]"
   ]
  },
  {
   "cell_type": "code",
   "execution_count": 32,
   "metadata": {
    "id": "rAC7spRT2xmg"
   },
   "outputs": [
    {
     "name": "stdout",
     "output_type": "stream",
     "text": [
      "[2, 1, 2, 1, 2, 2, 1]\n"
     ]
    }
   ],
   "source": [
    "# Answer here \n",
    "list = [19, 20, 21, 10, -53, -23, 10]\n",
    "for num in list :\n",
    "    if(num % 2 == 0) : \n",
    "        list[list.index(num)] = 1\n",
    "    else :\n",
    "        list[list.index(num)] = 2\n",
    "        \n",
    "print(list) "
   ]
  },
  {
   "cell_type": "markdown",
   "metadata": {
    "id": "N22Vx1x62xmh"
   },
   "source": [
    "## <p style=\"color:green;\">Q.11 Write a Python program to convert temperatures to and from celsius, fahrenheit.</p>\n",
    ">[ Formula : c/5 = f-32/9 [ where c = temperature in celsius and f = temperature in fahrenheit ]"
   ]
  },
  {
   "cell_type": "code",
   "execution_count": 1,
   "metadata": {
    "id": "bYhAOJ6J2xmj"
   },
   "outputs": [
    {
     "name": "stdout",
     "output_type": "stream",
     "text": [
      "C to convert to Celsius , F to convert to Fahrenheitf\n",
      "Enter your temp54\n",
      "129.2\n"
     ]
    }
   ],
   "source": [
    "# Answer here \n",
    "def toCel(temp) : \n",
    "    print((temp-32)/1.8)\n",
    "def toFah(temp) : \n",
    "    print((temp*1.8) + 32)\n",
    "\n",
    "temp_kind = input(\"C to convert to Celsius , F to convert to Fahrenheit\")\n",
    "temp = int(input(\"Enter your temp\"))\n",
    "if(temp_kind =='c') :\n",
    "    toCel(temp) \n",
    "else :\n",
    "    toFah(temp)"
   ]
  },
  {
   "cell_type": "markdown",
   "metadata": {
    "id": "6WR05tSW2xmm"
   },
   "source": [
    "## <p style=\"color:orange;\">Q.12 Write a Python program to create the multiplication table (from 1 to 10) of a number.</p>"
   ]
  },
  {
   "cell_type": "raw",
   "metadata": {
    "id": "ovhB_CPc2xmo"
   },
   "source": [
    "Expected Output:\n",
    "\n",
    "Input a number: 6                                                       \n",
    "6 x 1 = 6                                                               \n",
    "6 x 2 = 12                                                              \n",
    "6 x 3 = 18                                                              \n",
    "6 x 4 = 24                                                              \n",
    "6 x 5 = 30                                                              \n",
    "6 x 6 = 36                                                              \n",
    "6 x 7 = 42                                                              \n",
    "6 x 8 = 48                                                              \n",
    "6 x 9 = 54                                                              \n",
    "6 x 10 = 60 "
   ]
  },
  {
   "cell_type": "code",
   "execution_count": 25,
   "metadata": {
    "id": "RDQ2R2e52xmp"
   },
   "outputs": [
    {
     "name": "stdout",
     "output_type": "stream",
     "text": [
      "9 x 1 = 9\n",
      "9 x 2 = 18\n",
      "9 x 3 = 27\n",
      "9 x 4 = 36\n",
      "9 x 5 = 45\n",
      "9 x 6 = 54\n",
      "9 x 7 = 63\n",
      "9 x 8 = 72\n",
      "9 x 9 = 81\n",
      "9 x 10 = 90\n"
     ]
    }
   ],
   "source": [
    "# Answer here \n",
    "def getMultiplicationTable (number) : \n",
    "    for item in range (1,11) :\n",
    "        print(str(number) + \" x \" + str(item) + \" = \" + str(number*item))\n",
    "        \n",
    "getMultiplicationTable(9)"
   ]
  },
  {
   "cell_type": "markdown",
   "metadata": {
    "id": "BEGwPnG22xmq"
   },
   "source": [
    "# <center> Thank's for your effort ❤️ </center> "
   ]
  }
 ],
 "metadata": {
  "colab": {
   "provenance": []
  },
  "kernelspec": {
   "display_name": "Python 3 (ipykernel)",
   "language": "python",
   "name": "python3"
  },
  "language_info": {
   "codemirror_mode": {
    "name": "ipython",
    "version": 3
   },
   "file_extension": ".py",
   "mimetype": "text/x-python",
   "name": "python",
   "nbconvert_exporter": "python",
   "pygments_lexer": "ipython3",
   "version": "3.9.13"
  }
 },
 "nbformat": 4,
 "nbformat_minor": 1
}

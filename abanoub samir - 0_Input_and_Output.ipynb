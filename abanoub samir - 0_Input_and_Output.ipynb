{
  "cells": [
    {
      "cell_type": "markdown",
      "metadata": {
        "id": "Zpg4O-Ou2RqJ"
      },
      "source": [
        "> # Dear Epsilon Students, \n",
        "> # The More you practice The better You'll Be."
      ]
    },
    {
      "cell_type": "markdown",
      "metadata": {
        "id": "lgIMzpoM2RqZ"
      },
      "source": [
        "# Q.1 Given the radius of circle, print circumference of circle"
      ]
    },
    {
      "cell_type": "code",
      "execution_count": null,
      "metadata": {
        "id": "PuBMibaf2Rqc"
      },
      "outputs": [],
      "source": [
        "# Answer here \n"
      ]
    },
    {
      "cell_type": "markdown",
      "metadata": {
        "id": "bRIn9R5T2Rqi"
      },
      "source": [
        "# Q.2 Given the width and heught of rectangle, print perimeter of rectangle"
      ]
    },
    {
      "cell_type": "code",
      "execution_count": null,
      "metadata": {
        "id": "IZnAfoIp2Rqk"
      },
      "outputs": [],
      "source": [
        "# Answer here "
      ]
    },
    {
      "cell_type": "markdown",
      "metadata": {
        "id": "6-iNJGdb2Rqm"
      },
      "source": [
        "# <center> Thank's for your effort ❤️ </center> "
      ]
    }
  ],
  "metadata": {
    "kernelspec": {
      "display_name": "Python 3",
      "language": "python",
      "name": "python3"
    },
    "language_info": {
      "codemirror_mode": {
        "name": "ipython",
        "version": 3
      },
      "file_extension": ".py",
      "mimetype": "text/x-python",
      "name": "python",
      "nbconvert_exporter": "python",
      "pygments_lexer": "ipython3",
      "version": "3.8.5"
    },
    "colab": {
      "provenance": []
    }
  },
  "nbformat": 4,
  "nbformat_minor": 0
}
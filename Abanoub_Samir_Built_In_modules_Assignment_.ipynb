{
  "cells": [
    {
      "cell_type": "markdown",
      "metadata": {
        "id": "ccZn1Fl0I-DF"
      },
      "source": [
        "> # Dear Epsilon Students, \n",
        "> # The More you practice The better You'll Be."
      ]
    },
    {
      "cell_type": "markdown",
      "metadata": {
        "id": "RrY1RrXDI-DN"
      },
      "source": [
        "### Instructions: \n",
        "- Make sure that you understand this topics before you start.\n",
        "- If you found something hard to do, try and try then google it and finally ask someone. \n",
        "- You can divide this work into daily tasks so that you do not feel pressure.\n",
        "- After you finish, go to model answer and rate yourself. \n",
        "- If you find something ambiguous, Try to make a hypothesis to solve a problem. "
      ]
    },
    {
      "cell_type": "markdown",
      "metadata": {
        "id": "F58sAk5BI-DP"
      },
      "source": [
        "### Question classification: \n",
        "- Green is level 1 \n",
        "- Orange is level 2 \n",
        "- Red is level 3 "
      ]
    },
    {
      "cell_type": "markdown",
      "metadata": {
        "id": "gEahd8BaI-DQ"
      },
      "source": [
        "# <center> Let's start 💪 </center> "
      ]
    },
    {
      "cell_type": "markdown",
      "metadata": {
        "id": "b4HLbjDMI-DR"
      },
      "source": [
        "## <p style=\"color:green;\">Q.01 Write a Python program to select a random element from a list. Use random.choice()</p>\n"
      ]
    },
    {
      "cell_type": "code",
      "execution_count": null,
      "metadata": {
        "id": "gN7D_FjyI-DS",
        "outputId": "630da466-9527-45df-a060-0aea1ee30cc9",
        "colab": {
          "base_uri": "https://localhost:8080/"
        }
      },
      "outputs": [
        {
          "output_type": "stream",
          "name": "stdout",
          "text": [
            "3\n"
          ]
        }
      ],
      "source": [
        "# Answer here \n",
        "import random as rd \n",
        "print(rd.choice([1,2,3,4,5,6,7,8,9,0]))"
      ]
    },
    {
      "cell_type": "markdown",
      "metadata": {
        "id": "nwb_-8hTI-DU"
      },
      "source": [
        "## <p style=\"color:green;\">Q.02 Write a Python program to shuffle the elements of a given list. Use random.shuffle()\n",
        "</p>"
      ]
    },
    {
      "cell_type": "code",
      "execution_count": null,
      "metadata": {
        "id": "x9wYoXHLI-DV",
        "outputId": "3894fc86-673e-4b98-e483-fd7f7e3e73bd",
        "colab": {
          "base_uri": "https://localhost:8080/"
        }
      },
      "outputs": [
        {
          "output_type": "stream",
          "name": "stdout",
          "text": [
            "[6, 0, 1, 3, 4, 8, 5, 7, 2, 9]\n"
          ]
        }
      ],
      "source": [
        "# Answer here \n",
        "import random as rd\n",
        "list_ = [1,2,3,4,5,6,7,8,9,0]\n",
        "rd.shuffle(list_)\n",
        "print(list_)"
      ]
    },
    {
      "cell_type": "markdown",
      "metadata": {
        "id": "yrtoHJI8I-DW"
      },
      "source": [
        "## <p style=\"color:orange;\">Q.03 Write a Python program to print yesterday, today, tomorrow.</p>"
      ]
    },
    {
      "cell_type": "code",
      "execution_count": null,
      "metadata": {
        "id": "WN2CSqkwI-DX",
        "outputId": "ecf7f799-1fa1-493c-ce6f-ae1a34c31b30",
        "colab": {
          "base_uri": "https://localhost:8080/"
        }
      },
      "outputs": [
        {
          "output_type": "stream",
          "name": "stdout",
          "text": [
            "today : 2022-12-11\n",
            "tomorrow : 2022-12-13\n",
            "yesterday : 2022-12-09\n"
          ]
        }
      ],
      "source": [
        "# Answer here \n",
        "import datetime as dt \n",
        "print(\"today :\" , dt.date.today())\n",
        "print(\"tomorrow :\" , dt.date.today() + dt.timedelta(days=2))\n",
        "print(\"yesterday :\" , dt.date.today() - dt.timedelta(days=2))"
      ]
    },
    {
      "cell_type": "markdown",
      "metadata": {
        "id": "GzrCFlXiI-DX"
      },
      "source": [
        "## <p style=\"color:red;\">Q.04 Write a Python program to print next 5 days starting from today. </p>"
      ]
    },
    {
      "cell_type": "code",
      "execution_count": null,
      "metadata": {
        "id": "DioS9_T8I-DY",
        "colab": {
          "base_uri": "https://localhost:8080/"
        },
        "outputId": "b2ec4af0-ac0a-4c54-80e8-46b0894ac6af"
      },
      "outputs": [
        {
          "output_type": "stream",
          "name": "stdout",
          "text": [
            "today : 2022-12-11\n",
            "today : 2022-12-16\n"
          ]
        }
      ],
      "source": [
        "# Answer here \n",
        "import datetime as dt \n",
        "print(\"today :\" ,dt.date.today())\n",
        "print(\"today :\" ,dt.date.today() + dt.timedelta(days=5))"
      ]
    },
    {
      "cell_type": "markdown",
      "metadata": {
        "id": "Yw5iGv39I-DY"
      },
      "source": [
        "## <p style=\"color:green;\">Q.05 Write a Python program to get current time in milliseconds in Python.</p>"
      ]
    },
    {
      "cell_type": "code",
      "execution_count": null,
      "metadata": {
        "id": "_ns6Cf0iI-DZ",
        "colab": {
          "base_uri": "https://localhost:8080/"
        },
        "outputId": "61da0761-1cbe-4df3-e540-a8301e4b615c"
      },
      "outputs": [
        {
          "output_type": "stream",
          "name": "stdout",
          "text": [
            "1670745797534\n"
          ]
        }
      ],
      "source": [
        "# Answer here \n",
        "import time as T \n",
        "print(round(T.time()*1000))"
      ]
    },
    {
      "cell_type": "markdown",
      "metadata": {
        "id": "INI6OFzXI-DZ"
      },
      "source": [
        "## <p style=\"color:green;\">Q.06 Write a Python program to get the name of current working directory.</p>\n"
      ]
    },
    {
      "cell_type": "code",
      "execution_count": null,
      "metadata": {
        "id": "sCkFvG5KI-Da",
        "colab": {
          "base_uri": "https://localhost:8080/"
        },
        "outputId": "677b50bf-7c20-4b45-ec41-a573ebb5d7a3"
      },
      "outputs": [
        {
          "output_type": "stream",
          "name": "stdout",
          "text": [
            "/content\n"
          ]
        }
      ],
      "source": [
        "# Answer here \n",
        "import os \n",
        "print(os.getcwd())"
      ]
    },
    {
      "cell_type": "markdown",
      "metadata": {
        "id": "he_MofpAI-Da"
      },
      "source": [
        "# <center> Thank's for your effort ❤️ </center> "
      ]
    }
  ],
  "metadata": {
    "kernelspec": {
      "display_name": "Python 3",
      "language": "python",
      "name": "python3"
    },
    "language_info": {
      "codemirror_mode": {
        "name": "ipython",
        "version": 3
      },
      "file_extension": ".py",
      "mimetype": "text/x-python",
      "name": "python",
      "nbconvert_exporter": "python",
      "pygments_lexer": "ipython3",
      "version": "3.8.5"
    },
    "colab": {
      "provenance": []
    }
  },
  "nbformat": 4,
  "nbformat_minor": 0
}
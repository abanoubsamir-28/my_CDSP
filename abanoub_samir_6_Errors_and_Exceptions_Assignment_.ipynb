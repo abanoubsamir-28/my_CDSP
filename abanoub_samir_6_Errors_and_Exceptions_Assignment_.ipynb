{
  "cells": [
    {
      "cell_type": "markdown",
      "metadata": {
        "id": "u9sA1N9nOf7b"
      },
      "source": [
        "> # Dear Epsilon Students, \n",
        "> # The More you practice The better You'll Be."
      ]
    },
    {
      "cell_type": "markdown",
      "metadata": {
        "id": "FUuXLc_iOf7j"
      },
      "source": [
        "### Instructions: \n",
        "- Make sure that you understand this topics before you start.\n",
        "- If you found something hard to do, try and try then google it and finally ask someone. \n",
        "- You can divide this work into daily tasks so that you do not feel pressure.\n",
        "- After you finish, go to model answer and rate yourself. \n",
        "- If you find something ambiguous, Try to make a hypothesis to solve a problem. "
      ]
    },
    {
      "cell_type": "markdown",
      "metadata": {
        "id": "yN8azkfQOf7l"
      },
      "source": [
        "### Question classification: \n",
        "- Green is level 1 \n",
        "- Orange is level 2 \n",
        "- Red is level 3 "
      ]
    },
    {
      "cell_type": "markdown",
      "metadata": {
        "id": "tLwkFaa7Of7n"
      },
      "source": [
        "# <center> Let's start 💪 </center> "
      ]
    },
    {
      "cell_type": "markdown",
      "metadata": {
        "id": "CHDyEUR4Of7o"
      },
      "source": [
        "## <p style=\"color:green;\">Q.01 Handle the exception thrown by the code below by using <code>try</code> and <code>except</code> blocks.</p>\n"
      ]
    },
    {
      "cell_type": "code",
      "execution_count": null,
      "metadata": {
        "colab": {
          "base_uri": "https://localhost:8080/"
        },
        "id": "C4cI5ZikOf7p",
        "outputId": "901e8dbb-25ae-4911-d91c-8b0d2042e42d"
      },
      "outputs": [
        {
          "output_type": "stream",
          "name": "stdout",
          "text": [
            "Error , string instead of integer\n"
          ]
        }
      ],
      "source": [
        "# Answer here \n",
        "try:\n",
        "  for i in ['a','b','c']:\n",
        "      print(i**2)\n",
        "except : \n",
        "  print('Error , string instead of integer')"
      ]
    },
    {
      "cell_type": "markdown",
      "metadata": {
        "id": "VfAUe0_eOf7s"
      },
      "source": [
        "## <p style=\"color:green;\">Q.02 Handle the exception thrown by the code below by using <code>try</code> and <code>except</code> blocks. Then use a <code>finally</code> block to print 'All Done.'</p>"
      ]
    },
    {
      "cell_type": "code",
      "execution_count": null,
      "metadata": {
        "colab": {
          "base_uri": "https://localhost:8080/"
        },
        "id": "Y8x-S4YROf7t",
        "outputId": "72d8ffc4-a0aa-4382-ba3c-74ebbb5cb76d"
      },
      "outputs": [
        {
          "output_type": "stream",
          "name": "stdout",
          "text": [
            "cannot divide by zero\n",
            "ALL DONE\n"
          ]
        }
      ],
      "source": [
        "# Answer here \n",
        "x = 5\n",
        "y = 0\n",
        "try :\n",
        "  z = x/y\n",
        "except :\n",
        "  print('cannot divide by zero')\n",
        "finally: \n",
        "  print('ALL DONE')"
      ]
    },
    {
      "cell_type": "markdown",
      "metadata": {
        "id": "OFF7AJwEOf7u"
      },
      "source": [
        "## <p style=\"color:green;\">Q.03 Write a function that asks for an integer and prints the square of it. Use a <code>while</code> loop with a <code>try</code>, <code>except</code>, <code>else</code> block to account for incorrect inputs.</p>"
      ]
    },
    {
      "cell_type": "code",
      "execution_count": null,
      "metadata": {
        "id": "lYBQpoQgOf7v",
        "colab": {
          "base_uri": "https://localhost:8080/"
        },
        "outputId": "fd31f563-2d2a-40da-9d81-2215877494fd"
      },
      "outputs": [
        {
          "output_type": "stream",
          "name": "stdout",
          "text": [
            "Enter a numb:g\n",
            "Enter a valid number\n",
            "Enter a numb:12\n",
            "Result is: 144\n"
          ]
        }
      ],
      "source": [
        "\n",
        "def ask():\n",
        "    while True:\n",
        "        try:\n",
        "            num = int(input(\"Enter a numb:\"))\n",
        "        except:\n",
        "            print(\"Enter a valid number\")\n",
        "            continue\n",
        "        else:\n",
        "            print(\"Result is:\", num**2)\n",
        "            break\n",
        "ask()"
      ]
    },
    {
      "cell_type": "markdown",
      "metadata": {
        "id": "zlwd_o2uOf7x"
      },
      "source": [
        "# <center> Thank's for your effort ❤️ </center> "
      ]
    }
  ],
  "metadata": {
    "kernelspec": {
      "display_name": "Python 3",
      "language": "python",
      "name": "python3"
    },
    "language_info": {
      "codemirror_mode": {
        "name": "ipython",
        "version": 3
      },
      "file_extension": ".py",
      "mimetype": "text/x-python",
      "name": "python",
      "nbconvert_exporter": "python",
      "pygments_lexer": "ipython3",
      "version": "3.8.5"
    },
    "colab": {
      "provenance": []
    }
  },
  "nbformat": 4,
  "nbformat_minor": 0
}
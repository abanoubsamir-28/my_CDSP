{
  "cells": [
    {
      "cell_type": "markdown",
      "metadata": {
        "id": "AFAIWSAiDKaV"
      },
      "source": [
        "> # Dear Epsilon Students, \n",
        "> # The More you practice The better You'll Be."
      ]
    },
    {
      "cell_type": "markdown",
      "metadata": {
        "id": "EV-g0zX7DKai"
      },
      "source": [
        "### Instructions: \n",
        "- Make sure that you understand this topics before you start.\n",
        "- If you found something hard to do, try and try then google it and finally ask someone. \n",
        "- You can divide this work into daily tasks so that you do not feel pressure.\n",
        "- After you finish, go to model answer and rate yourself. \n",
        "- If you find something ambiguous, Try to make a hypothesis to solve a problem. "
      ]
    },
    {
      "cell_type": "markdown",
      "metadata": {
        "id": "SWbN_jTnDKak"
      },
      "source": [
        "### Question classification: \n",
        "- Green is level 1 \n",
        "- Orange is level 2 \n",
        "- Red is level 3 "
      ]
    },
    {
      "cell_type": "markdown",
      "metadata": {
        "id": "WXyH1xVZDKal"
      },
      "source": [
        "# <center> Let's start 💪 </center> "
      ]
    },
    {
      "cell_type": "markdown",
      "metadata": {
        "id": "eLxYHBTzDKal"
      },
      "source": [
        "## <p style=\"color:green;\">Q.01 Open a file, name it 'test.txt' and write 'hello world' for 5 times in it then close it.</p>"
      ]
    },
    {
      "cell_type": "code",
      "execution_count": null,
      "metadata": {
        "id": "5rb5dRZmDKam"
      },
      "outputs": [],
      "source": [
        "# Answer here \n",
        "with open('abanoub.txt' , 'w') as my_file :\n",
        "  for i in range(5) :\n",
        "    my_file.write('Hello World\\n')\n",
        "  my_file.close()"
      ]
    },
    {
      "cell_type": "markdown",
      "metadata": {
        "id": "tuCGap9gDKan"
      },
      "source": [
        "## <p style=\"color:orange;\">Q.02 Read the contents of the file, then make content in upercase then write the result again to the file.</p>\n"
      ]
    },
    {
      "cell_type": "code",
      "execution_count": null,
      "metadata": {
        "colab": {
          "base_uri": "https://localhost:8080/"
        },
        "id": "7js5Yh40DKao",
        "outputId": "94cb77ec-05c7-4ef9-cc1a-33663ca1b5fe"
      },
      "outputs": [
        {
          "output_type": "stream",
          "name": "stdout",
          "text": [
            "HELLO WORLD\n",
            "HELLO WORLD\n",
            "HELLO WORLD\n",
            "HELLO WORLD\n",
            "HELLO WORLD\n",
            "\n"
          ]
        }
      ],
      "source": [
        "# Answer here \n",
        "new_text = []\n",
        "with open('abanoub.txt' , 'r') as file :\n",
        "  new_text= file.readlines()\n",
        "  file.close()\n",
        "\n",
        "toAppend = list(map(lambda word : word.upper() , new_text))\n",
        "\n",
        "with open ('abanoub.txt' , 'w') as file_write : \n",
        "  for word in toAppend :\n",
        "    file_write.write(word)\n",
        "  file.close()\n",
        "\n",
        "with open('abanoub.txt' , 'r') as file :\n",
        "  print(file.read())\n",
        "  file.close()\n",
        "\n"
      ]
    },
    {
      "cell_type": "markdown",
      "metadata": {
        "id": "SPEbSl80DKap"
      },
      "source": [
        "## <p style=\"color:red;\">Q.03 Read the third line of the file then update it to its capital case using `capitalize`.</p>\n"
      ]
    },
    {
      "cell_type": "code",
      "execution_count": null,
      "metadata": {
        "id": "0HlxHtn2DKap"
      },
      "outputs": [],
      "source": [
        "# Answer here \n",
        "with open('myfile.txt' , 'w') as my_file :\n",
        "  for i in range(5) :\n",
        "    my_file.write('test\\n')\n",
        "  my_file.close()\n",
        "\n",
        "with open('myfile.txt' , 'r') as file : \n",
        "  line = file.readlines()\n",
        "  line[2] = line[2].capitalize()\n",
        "  file.close()\n",
        "\n",
        "with open ('myfile.txt','w') as file : \n",
        "    file.writelines(line)\n",
        "    file.close()\n",
        "\n",
        "\n"
      ]
    },
    {
      "cell_type": "markdown",
      "metadata": {
        "id": "kJkmgpboDKaq"
      },
      "source": [
        "## <p style=\"color:green;\">Q.04 Using With Statement open this file and append 'I Love python' to it.</p>\n"
      ]
    },
    {
      "cell_type": "code",
      "execution_count": null,
      "metadata": {
        "id": "QPzqzWpaDKaq",
        "colab": {
          "base_uri": "https://localhost:8080/"
        },
        "outputId": "ee5bd45b-b794-4347-b7ec-69d9d6540340"
      },
      "outputs": [
        {
          "output_type": "stream",
          "name": "stdout",
          "text": [
            "test\n",
            "test\n",
            "Test\n",
            "test\n",
            "test\n",
            "I Love python\n"
          ]
        }
      ],
      "source": [
        "# Answer here \n",
        "with open('myfile.txt' , 'a') as file : \n",
        "  file.write('I Love python')\n",
        "\n",
        "with open('myfile.txt' , 'r') as file : \n",
        "  print(file.read())"
      ]
    },
    {
      "cell_type": "markdown",
      "metadata": {
        "id": "MY4hp1X2DKar"
      },
      "source": [
        "# <center> Thank's for your effort ❤️ </center> "
      ]
    }
  ],
  "metadata": {
    "kernelspec": {
      "display_name": "Python 3",
      "language": "python",
      "name": "python3"
    },
    "language_info": {
      "codemirror_mode": {
        "name": "ipython",
        "version": 3
      },
      "file_extension": ".py",
      "mimetype": "text/x-python",
      "name": "python",
      "nbconvert_exporter": "python",
      "pygments_lexer": "ipython3",
      "version": "3.8.5"
    },
    "colab": {
      "provenance": []
    }
  },
  "nbformat": 4,
  "nbformat_minor": 0
}